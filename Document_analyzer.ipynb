{
 "cells": [
  {
   "cell_type": "code",
   "execution_count": 5,
   "id": "5774843f",
   "metadata": {},
   "outputs": [],
   "source": [
    "import os\n",
    "import fitz  # PyMuPDF\n",
    "import pytesseract\n",
    "from PIL import Image\n",
    "import io\n",
    "import tempfile\n",
    "from docx import Document"
   ]
  },
  {
   "cell_type": "code",
   "execution_count": 6,
   "id": "21d75442",
   "metadata": {},
   "outputs": [],
   "source": [
    "pytesseract.pytesseract.tesseract_cmd = r\"C:\\Program Files\\Tesseract-OCR\\tesseract.exe\""
   ]
  },
  {
   "cell_type": "code",
   "execution_count": null,
   "id": "4a82cc03",
   "metadata": {},
   "outputs": [],
   "source": [
    "def extract_text_from_image(image_path_or_bytes):\n",
    "    if isinstance(image_path_or_bytes, bytes):\n",
    "        image = Image.open(io.BytesIO(image_path_or_bytes))\n",
    "    else:\n",
    "        image = Image.open(image_path_or_bytes)\n",
    "    return pytesseract.image_to_string(image)\n",
    "\n",
    "def extract_text_from_pdf(file_path):\n",
    "    doc = fitz.open(file_path)\n",
    "    text = \"\"\n",
    "\n",
    "    for page_num, page in enumerate(doc):\n",
    "        text += f\"\\n--- Page {page_num + 1} ---\\n\"\n",
    "        # Extract text\n",
    "        page_text = page.get_text()\n",
    "        if page_text:\n",
    "            text += page_text\n",
    "\n",
    "        # Extract images for OCR\n",
    "        images = page.get_images(full=True)\n",
    "        for img_index, img in enumerate(images):\n",
    "            xref = img[0]\n",
    "            base_image = doc.extract_image(xref)\n",
    "            image_bytes = base_image[\"image\"]\n",
    "            image_ext = base_image[\"ext\"]\n",
    "            ocr_text = extract_text_from_image(image_bytes)\n",
    "            text += f\"\\n[Image {img_index + 1} OCR]:\\n{ocr_text}\\n\"\n",
    "\n",
    "    doc.close()\n",
    "    return text.strip()\n",
    "\n",
    "def extract_text_from_docx(file_path):\n",
    "    text = \"\"\n",
    "    doc = Document(file_path)\n",
    "\n",
    "    # Extract plain text\n",
    "    for para in doc.paragraphs:\n",
    "        text += para.text + \"\\n\"\n",
    "\n",
    "    # Extract images and apply OCR\n",
    "    for rel in doc.part._rels:\n",
    "        rel_obj = doc.part._rels[rel]\n",
    "        if \"image\" in rel_obj.target_ref:\n",
    "            image_data = rel_obj.target_part.blob\n",
    "            ocr_text = extract_text_from_image(image_data)\n",
    "            text += f\"\\n[Image OCR from DOCX]:\\n{ocr_text}\\n\"\n",
    "    return text.strip()\n",
    "\n",
    "def extract_text_from_txt(file_path):\n",
    "    with open(file_path, 'r', encoding='utf-8', errors='ignore') as f:\n",
    "        return f.read()\n",
    "\n",
    "def extract_text(file_path):\n",
    "    ext = os.path.splitext(file_path)[1].lower()\n",
    "    if ext == '.pdf':\n",
    "        return extract_text_from_pdf(file_path)\n",
    "    elif ext == '.docx':\n",
    "        return extract_text_from_docx(file_path)\n",
    "    elif ext == '.txt':\n",
    "        return extract_text_from_txt(file_path)\n",
    "    elif ext in ['.png', '.jpg', '.jpeg', '.bmp', '.tiff']:\n",
    "        return extract_text_from_image(file_path)\n",
    "    else:\n",
    "        return f\"Unsupported file format: {ext}\"\n"
   ]
  },
  {
   "cell_type": "code",
   "execution_count": null,
   "id": "6f3ed945",
   "metadata": {},
   "outputs": [],
   "source": [
    "file_path = \"Initial Implementation Plan - AI-Driven Document Compliance Analysis System (3).pdf\"  # Replace with your file path\n",
    "result_text = extract_text(file_path)\n",
    "print(\"📄 Extracted Text:\\n\")\n",
    "print(result_text)"
   ]
  }
 ],
 "metadata": {
  "kernelspec": {
   "display_name": "document_analyzer",
   "language": "python",
   "name": "python3"
  },
  "language_info": {
   "codemirror_mode": {
    "name": "ipython",
    "version": 3
   },
   "file_extension": ".py",
   "mimetype": "text/x-python",
   "name": "python",
   "nbconvert_exporter": "python",
   "pygments_lexer": "ipython3",
   "version": "3.11.7"
  }
 },
 "nbformat": 4,
 "nbformat_minor": 5
}
